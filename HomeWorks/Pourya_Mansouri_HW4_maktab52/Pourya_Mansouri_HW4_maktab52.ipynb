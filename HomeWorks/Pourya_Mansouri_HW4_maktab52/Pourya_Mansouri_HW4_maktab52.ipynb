{
 "cells": [
  {
   "cell_type": "markdown",
   "id": "military-bailey",
   "metadata": {},
   "source": [
    "### Pourya Mansouri - Homework 4"
   ]
  },
  {
   "cell_type": "markdown",
   "id": "persistent-defeat",
   "metadata": {},
   "source": [
    "####  tamrin 1"
   ]
  },
  {
   "cell_type": "markdown",
   "id": "guilty-woman",
   "metadata": {
    "direction": "rtl"
   },
   "source": [
    "1- برای پیدا کردن مسیر توابع در اثربری وقتی از چند کلاس والد استفاده میکنیم از تابع MRO استفاده میکنیم."
   ]
  },
  {
   "cell_type": "code",
   "execution_count": null,
   "id": "previous-authorization",
   "metadata": {},
   "outputs": [],
   "source": []
  },
  {
   "cell_type": "code",
   "execution_count": 1,
   "id": "distinguished-mainland",
   "metadata": {},
   "outputs": [],
   "source": [
    "class A:\n",
    "    def do_job(self):\n",
    "        print('I am walking ...')\n",
    "\n",
    "\n",
    "class Z:\n",
    "    def do_job(self, n):\n",
    "        print(f'I am counting from 1 to {n}:  {list(range(1, n + 1))}')\n",
    "\n",
    "\n",
    "class B(A):\n",
    "    def do_job(self, s):\n",
    "        super().do_job()\n",
    "        print(f'I am printing your string : \"{s}\"')\n",
    "\n",
    "\n",
    "class C(A, Z):\n",
    "    def do_job(self, n):\n",
    "        super().do_job(n)\n",
    "        print('I am jumping ...')\n",
    "\n",
    "\n",
    "class D(B):\n",
    "    def do_job(self, s):\n",
    "        super().do_job(s)\n",
    "        print('I am speaking ...')\n",
    "\n",
    "\n",
    "class E(D, C):\n",
    "    def do_job(self, s, n):\n",
    "        super().do_job(s, n)\n",
    "        print('I am laughing ...')\n",
    "\n",
    "\n",
    "class F(Z, B):\n",
    "    def do_job(self, s, n):\n",
    "        super().do_job(s, n)\n",
    "        print('I am playing ...')\n"
   ]
  },
  {
   "cell_type": "code",
   "execution_count": 3,
   "id": "systematic-fiction",
   "metadata": {},
   "outputs": [
    {
     "data": {
      "text/plain": [
       "[__main__.E,\n",
       " __main__.D,\n",
       " __main__.B,\n",
       " __main__.C,\n",
       " __main__.A,\n",
       " __main__.Z,\n",
       " object]"
      ]
     },
     "execution_count": 3,
     "metadata": {},
     "output_type": "execute_result"
    }
   ],
   "source": [
    "E.mro()"
   ]
  },
  {
   "cell_type": "markdown",
   "id": "indoor-breakfast",
   "metadata": {},
   "source": [
    "همانطور که نتیجه تابع mro مشخص هست مسیر حرکت در مسیر زیر می باشد:\n",
    "E --> D --> B --> C --> A --> Z"
   ]
  },
  {
   "cell_type": "code",
   "execution_count": 5,
   "id": "prerequisite-reviewer",
   "metadata": {},
   "outputs": [
    {
     "name": "stdout",
     "output_type": "stream",
     "text": [
      "I am walking ...\n",
      "\n",
      "I am counting from 1 to 3:  [1, 2, 3]\n",
      "\n"
     ]
    },
    {
     "ename": "TypeError",
     "evalue": "do_job() takes 2 positional arguments but 3 were given",
     "output_type": "error",
     "traceback": [
      "\u001b[0;31m---------------------------------------------------------------------------\u001b[0m",
      "\u001b[0;31mTypeError\u001b[0m                                 Traceback (most recent call last)",
      "\u001b[0;32m<ipython-input-5-e50209e3aa83>\u001b[0m in \u001b[0;36m<module>\u001b[0;34m\u001b[0m\n\u001b[1;32m      8\u001b[0m \u001b[0mprint\u001b[0m\u001b[0;34m(\u001b[0m\u001b[0;34m)\u001b[0m\u001b[0;34m\u001b[0m\u001b[0;34m\u001b[0m\u001b[0m\n\u001b[1;32m      9\u001b[0m \u001b[0mobje\u001b[0m \u001b[0;34m=\u001b[0m \u001b[0mE\u001b[0m\u001b[0;34m(\u001b[0m\u001b[0;34m)\u001b[0m\u001b[0;34m\u001b[0m\u001b[0;34m\u001b[0m\u001b[0m\n\u001b[0;32m---> 10\u001b[0;31m \u001b[0mobje\u001b[0m\u001b[0;34m.\u001b[0m\u001b[0mdo_job\u001b[0m\u001b[0;34m(\u001b[0m\u001b[0;34m'Python'\u001b[0m\u001b[0;34m,\u001b[0m \u001b[0;36m5\u001b[0m\u001b[0;34m)\u001b[0m\u001b[0;34m\u001b[0m\u001b[0;34m\u001b[0m\u001b[0m\n\u001b[0m\u001b[1;32m     11\u001b[0m \u001b[0;34m\u001b[0m\u001b[0m\n\u001b[1;32m     12\u001b[0m \u001b[0mprint\u001b[0m\u001b[0;34m(\u001b[0m\u001b[0;34m)\u001b[0m\u001b[0;34m\u001b[0m\u001b[0;34m\u001b[0m\u001b[0m\n",
      "\u001b[0;32m<ipython-input-4-10463e3962f1>\u001b[0m in \u001b[0;36mdo_job\u001b[0;34m(self, s, n)\u001b[0m\n\u001b[1;32m     29\u001b[0m \u001b[0;32mclass\u001b[0m \u001b[0mE\u001b[0m\u001b[0;34m(\u001b[0m\u001b[0mD\u001b[0m\u001b[0;34m,\u001b[0m \u001b[0mC\u001b[0m\u001b[0;34m)\u001b[0m\u001b[0;34m:\u001b[0m\u001b[0;34m\u001b[0m\u001b[0;34m\u001b[0m\u001b[0m\n\u001b[1;32m     30\u001b[0m     \u001b[0;32mdef\u001b[0m \u001b[0mdo_job\u001b[0m\u001b[0;34m(\u001b[0m\u001b[0mself\u001b[0m\u001b[0;34m,\u001b[0m \u001b[0ms\u001b[0m\u001b[0;34m,\u001b[0m \u001b[0mn\u001b[0m\u001b[0;34m)\u001b[0m\u001b[0;34m:\u001b[0m\u001b[0;34m\u001b[0m\u001b[0;34m\u001b[0m\u001b[0m\n\u001b[0;32m---> 31\u001b[0;31m         \u001b[0msuper\u001b[0m\u001b[0;34m(\u001b[0m\u001b[0;34m)\u001b[0m\u001b[0;34m.\u001b[0m\u001b[0mdo_job\u001b[0m\u001b[0;34m(\u001b[0m\u001b[0ms\u001b[0m\u001b[0;34m,\u001b[0m \u001b[0mn\u001b[0m\u001b[0;34m)\u001b[0m\u001b[0;34m\u001b[0m\u001b[0;34m\u001b[0m\u001b[0m\n\u001b[0m\u001b[1;32m     32\u001b[0m         \u001b[0mprint\u001b[0m\u001b[0;34m(\u001b[0m\u001b[0;34m'I am laughing ...'\u001b[0m\u001b[0;34m)\u001b[0m\u001b[0;34m\u001b[0m\u001b[0;34m\u001b[0m\u001b[0m\n\u001b[1;32m     33\u001b[0m \u001b[0;34m\u001b[0m\u001b[0m\n",
      "\u001b[0;31mTypeError\u001b[0m: do_job() takes 2 positional arguments but 3 were given"
     ]
    }
   ],
   "source": [
    "obja = A()\n",
    "obja.do_job()\n",
    "\n",
    "print()\n",
    "objz = Z()\n",
    "objz.do_job(3)\n",
    "\n",
    "print()\n",
    "obje = E()\n",
    "obje.do_job('Python', 5)\n",
    "\n",
    "print()\n",
    "objf = F()\n",
    "objf.do_job('Python', 6)\n"
   ]
  },
  {
   "cell_type": "markdown",
   "id": "interstate-virtue",
   "metadata": {},
   "source": [
    "2- اررور TpyeError داریم که میگه تابع  do_job() فقط ۲ ورودی میگیرد وبی ما به آن ۳  ورودی دارد.\n",
    "مشکل از اینجاست که با اینکه تابع do_job() در کلاس E بجز self ورودی s و n را میگیرد. ولی در کلاس والد آن یعنی کلاس D این تابع بجز selfیک ورودی میگیرد .\n",
    "وقتی ما تابع super را در کلاس E صدا میزنیم می بینیم که با توجه به تابع mro وارد کلاس Dمی شود ولی تعداد ورودی داده شده به آن بیشتر از حد مجاز است."
   ]
  },
  {
   "cell_type": "markdown",
   "id": "completed-synthesis",
   "metadata": {},
   "source": [
    "### - تمرین ۳"
   ]
  },
  {
   "cell_type": "markdown",
   "id": "ambient-simple",
   "metadata": {
    "direction": "ltr"
   },
   "source": [
    "- Reference: \n",
    "    - https://python-reference.readthedocs.io/"
   ]
  },
  {
   "cell_type": "markdown",
   "id": "dying-shepherd",
   "metadata": {
    "direction": "ltr"
   },
   "source": [
    "### **\\__call__ VS \\__init__**"
   ]
  },
  {
   "cell_type": "markdown",
   "id": "spanish-oracle",
   "metadata": {
    "direction": "ltr"
   },
   "source": [
    "\n",
    "__init__ is called when you are creating an instance of any class and initializing the instance variable also. And __call__ is called when you call the object like any other function. __call__ allows to return arbitrary values, while __init__ being an constructor returns the instance of class implicitly."
   ]
  },
  {
   "cell_type": "code",
   "execution_count": 5,
   "id": "infectious-egypt",
   "metadata": {},
   "outputs": [],
   "source": [
    "class A:\n",
    "    def __init__(self, y):\n",
    "        print(\"inside __init__(), y: \",y)\n",
    "        self.y = y\n",
    "  \n",
    "    def __call__(self):\n",
    "        res = 0\n",
    "        print(\"inside __call__()\")\n",
    "        print(\"adding 2 to the value of y\")\n",
    "        res = self.y + 2\n",
    "        return res\n",
    "          "
   ]
  },
  {
   "cell_type": "code",
   "execution_count": 6,
   "id": "fabulous-suffering",
   "metadata": {},
   "outputs": [
    {
     "name": "stdout",
     "output_type": "stream",
     "text": [
      "inside __init__(), y:  3\n",
      "\n",
      "inside __call__()\n",
      "adding 2 to the value of y\n",
      "5\n",
      "\n",
      "inside __init__(), y:  10\n",
      "\n",
      "inside __call__()\n",
      "adding 2 to the value of y\n",
      "12\n"
     ]
    }
   ],
   "source": [
    "# declaration of instance of class A\n",
    "a = A(3)\n",
    "print()\n",
    "\n",
    "# calling __call__() for a \n",
    "r = a()\n",
    "print(r)\n",
    "print()\n",
    "# declaration of another instance\n",
    "# of class A\n",
    "b = A(10)\n",
    "print()\n",
    "\n",
    "  \n",
    "# calling __call__() for b\n",
    "r = b()\n",
    "print(r)"
   ]
  },
  {
   "cell_type": "markdown",
   "id": "velvet-sandwich",
   "metadata": {
    "direction": "ltr"
   },
   "source": [
    "### -  **\\__del__**\n",
    "    - The **\\__del\\__()** method is a known as a destructor method in Python. It is called when all references to the object have been deleted i.e when an object is garbage collected"
   ]
  },
  {
   "cell_type": "code",
   "execution_count": 10,
   "id": "provincial-assumption",
   "metadata": {},
   "outputs": [
    {
     "name": "stdout",
     "output_type": "stream",
     "text": [
      "Object created.\n",
      "Destructor called, Object deleted.\n"
     ]
    },
    {
     "ename": "NameError",
     "evalue": "name 'obj' is not defined",
     "output_type": "error",
     "traceback": [
      "\u001b[0;31m---------------------------------------------------------------------------\u001b[0m",
      "\u001b[0;31mNameError\u001b[0m                                 Traceback (most recent call last)",
      "\u001b[0;32m<ipython-input-10-7739dca20187>\u001b[0m in \u001b[0;36m<module>\u001b[0;34m\u001b[0m\n\u001b[1;32m     11\u001b[0m \u001b[0;32mdel\u001b[0m \u001b[0mobj\u001b[0m\u001b[0;34m\u001b[0m\u001b[0;34m\u001b[0m\u001b[0m\n\u001b[1;32m     12\u001b[0m \u001b[0;34m\u001b[0m\u001b[0m\n\u001b[0;32m---> 13\u001b[0;31m \u001b[0mobj\u001b[0m\u001b[0;34m\u001b[0m\u001b[0;34m\u001b[0m\u001b[0m\n\u001b[0m",
      "\u001b[0;31mNameError\u001b[0m: name 'obj' is not defined"
     ]
    }
   ],
   "source": [
    "class Object:\n",
    "\n",
    "\tdef __init__(self):\n",
    "\t\tprint('Object created.')\n",
    "\n",
    "\t# Deleting (Calling destructor)\n",
    "\tdef __del__(self):\n",
    "\t\tprint('Destructor called, Object deleted.')\n",
    "\n",
    "obj = Object()\n",
    "del obj\n",
    "\n",
    "obj"
   ]
  },
  {
   "cell_type": "markdown",
   "id": "figured-winning",
   "metadata": {
    "direction": "ltr"
   },
   "source": [
    "### - **\\__getattr__**\n",
    "    \n",
    "    - Called when an attribute lookup has not found the attribute in the usual places (i.e. it is not an instance attribute nor is it found in the class tree for self)."
   ]
  },
  {
   "cell_type": "code",
   "execution_count": 25,
   "id": "challenging-belize",
   "metadata": {},
   "outputs": [],
   "source": [
    "class Object:\n",
    "    def __init__(self, bamf):\n",
    "        self.bamf = bamf\n",
    "    def __getattr__(self, name):\n",
    "        return 'Object does not have `{}` attribute.'.format(str(name))\n"
   ]
  },
  {
   "cell_type": "code",
   "execution_count": 26,
   "id": "polar-rally",
   "metadata": {},
   "outputs": [
    {
     "name": "stdout",
     "output_type": "stream",
     "text": [
      "Object does not have `bar` attribute.\n",
      "\n",
      "bamf\n"
     ]
    }
   ],
   "source": [
    "f = Object(\"bamf\")\n",
    "print(f.bar)\n",
    "print()\n",
    "print(f.bamf)"
   ]
  },
  {
   "cell_type": "code",
   "execution_count": 37,
   "id": "major-tuition",
   "metadata": {},
   "outputs": [],
   "source": [
    "class Object:\n",
    "    def __init__(self, bamf):\n",
    "        self.bamf = bamf\n",
    "    def __getattr__(self, name):\n",
    "#         setattr(self,name,str(name))\n",
    "        return getattr(Object, name, f'{name} Not founded')\n"
   ]
  },
  {
   "cell_type": "code",
   "execution_count": 38,
   "id": "entire-kuwait",
   "metadata": {},
   "outputs": [
    {
     "name": "stdout",
     "output_type": "stream",
     "text": [
      "bar Not founded\n",
      "\n",
      "bamf\n"
     ]
    }
   ],
   "source": [
    "f = Object(\"bamf\")\n",
    "print(f.bar)\n",
    "print()\n",
    "print(f.bamf)"
   ]
  },
  {
   "cell_type": "markdown",
   "id": "amateur-basket",
   "metadata": {
    "direction": "ltr"
   },
   "source": [
    "### -  **\\__setattr__**\n",
    "    - This method is called instead of the normal mechanism (i.e. store the value in the instance dictionary).\n",
    "    - If __setattr__() wants to assign to an instance attribute, it should not simply execute self.name = value — this would cause a recursive call to itself.\n",
    "    - Instead, it should insert the value in the dictionary of instance attributes, e.g., self.__dict__[name] = value."
   ]
  },
  {
   "cell_type": "code",
   "execution_count": 39,
   "id": "forward-african",
   "metadata": {},
   "outputs": [
    {
     "data": {
      "text/plain": [
       "'BAMF'"
      ]
     },
     "execution_count": 39,
     "metadata": {},
     "output_type": "execute_result"
    }
   ],
   "source": [
    "# this example uses __setattr__ to dynamically change attribute value to uppercase\n",
    "class Frob:\n",
    "    def __setattr__(self, name, value):\n",
    "        self.__dict__[name] = value.upper()\n",
    "\n",
    "f = Frob()\n",
    "f.bamf = \"bamf\"\n",
    "f.bamf"
   ]
  },
  {
   "cell_type": "markdown",
   "id": "faced-blocking",
   "metadata": {
    "direction": "ltr"
   },
   "source": [
    "### **\\__new__**\n",
    "\n",
    "- **\\__new__** is the first step of instance creation. It's called first and is responsible for returning a new instance of your class. In contrast, **\\__init__** doesn't return anything; it's only responsible for initializing the instance after it's been created"
   ]
  },
  {
   "cell_type": "code",
   "execution_count": 45,
   "id": "hungry-grammar",
   "metadata": {},
   "outputs": [
    {
     "name": "stdout",
     "output_type": "stream",
     "text": [
      "New\n",
      "success!\n"
     ]
    }
   ],
   "source": [
    "class Person:\n",
    "\n",
    "    def __new__(cls):\n",
    "        print(\"New\")\n",
    "        return object.__new__(cls)\n",
    "\n",
    "    def __init__(self):\n",
    "        self.instance_method()\n",
    "\n",
    "    def instance_method(self):\n",
    "        print('success!')\n",
    "\n",
    "personObj = Person()"
   ]
  }
 ],
 "metadata": {
  "direction": "rtl",
  "kernelspec": {
   "display_name": "Python 3",
   "language": "python",
   "name": "python3"
  },
  "language_info": {
   "codemirror_mode": {
    "name": "ipython",
    "version": 3
   },
   "file_extension": ".py",
   "mimetype": "text/x-python",
   "name": "python",
   "nbconvert_exporter": "python",
   "pygments_lexer": "ipython3",
   "version": "3.8.8"
  }
 },
 "nbformat": 4,
 "nbformat_minor": 5
}
