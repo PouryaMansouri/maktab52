{
 "cells": [
  {
   "cell_type": "markdown",
   "id": "military-bailey",
   "metadata": {},
   "source": [
    "### Pourya Mansouri - Homework 4"
   ]
  },
  {
   "cell_type": "markdown",
   "id": "persistent-defeat",
   "metadata": {},
   "source": [
    "####  tamrin 1"
   ]
  },
  {
   "cell_type": "markdown",
   "id": "guilty-woman",
   "metadata": {
    "direction": "rtl"
   },
   "source": [
    "1- برای پیدا کردن مسیر توابع در اثربری وقتی از چند کلاس والد استفاده میکنیم از تابع MRO استفاده میکنیم."
   ]
  },
  {
   "cell_type": "code",
   "execution_count": null,
   "id": "previous-authorization",
   "metadata": {},
   "outputs": [],
   "source": []
  },
  {
   "cell_type": "code",
   "execution_count": 1,
   "id": "distinguished-mainland",
   "metadata": {},
   "outputs": [],
   "source": [
    "class A:\n",
    "    def do_job(self):\n",
    "        print('I am walking ...')\n",
    "\n",
    "\n",
    "class Z:\n",
    "    def do_job(self, n):\n",
    "        print(f'I am counting from 1 to {n}:  {list(range(1, n + 1))}')\n",
    "\n",
    "\n",
    "class B(A):\n",
    "    def do_job(self, s):\n",
    "        super().do_job()\n",
    "        print(f'I am printing your string : \"{s}\"')\n",
    "\n",
    "\n",
    "class C(A, Z):\n",
    "    def do_job(self, n):\n",
    "        super().do_job(n)\n",
    "        print('I am jumping ...')\n",
    "\n",
    "\n",
    "class D(B):\n",
    "    def do_job(self, s):\n",
    "        super().do_job(s)\n",
    "        print('I am speaking ...')\n",
    "\n",
    "\n",
    "class E(D, C):\n",
    "    def do_job(self, s, n):\n",
    "        super().do_job(s, n)\n",
    "        print('I am laughing ...')\n",
    "\n",
    "\n",
    "class F(Z, B):\n",
    "    def do_job(self, s, n):\n",
    "        super().do_job(s, n)\n",
    "        print('I am playing ...')\n"
   ]
  },
  {
   "cell_type": "code",
   "execution_count": 3,
   "id": "systematic-fiction",
   "metadata": {},
   "outputs": [
    {
     "data": {
      "text/plain": [
       "[__main__.E,\n",
       " __main__.D,\n",
       " __main__.B,\n",
       " __main__.C,\n",
       " __main__.A,\n",
       " __main__.Z,\n",
       " object]"
      ]
     },
     "execution_count": 3,
     "metadata": {},
     "output_type": "execute_result"
    }
   ],
   "source": [
    "E.mro()"
   ]
  },
  {
   "cell_type": "markdown",
   "id": "indoor-breakfast",
   "metadata": {},
   "source": [
    "همانطور که نتیجه تابع mro مشخص هست مسیر حرکت در مسیر زیر می باشد:\n",
    "E --> D --> B --> C --> A --> Z"
   ]
  },
  {
   "cell_type": "code",
   "execution_count": 5,
   "id": "prerequisite-reviewer",
   "metadata": {},
   "outputs": [
    {
     "name": "stdout",
     "output_type": "stream",
     "text": [
      "I am walking ...\n",
      "\n",
      "I am counting from 1 to 3:  [1, 2, 3]\n",
      "\n"
     ]
    },
    {
     "ename": "TypeError",
     "evalue": "do_job() takes 2 positional arguments but 3 were given",
     "output_type": "error",
     "traceback": [
      "\u001b[0;31m---------------------------------------------------------------------------\u001b[0m",
      "\u001b[0;31mTypeError\u001b[0m                                 Traceback (most recent call last)",
      "\u001b[0;32m<ipython-input-5-e50209e3aa83>\u001b[0m in \u001b[0;36m<module>\u001b[0;34m\u001b[0m\n\u001b[1;32m      8\u001b[0m \u001b[0mprint\u001b[0m\u001b[0;34m(\u001b[0m\u001b[0;34m)\u001b[0m\u001b[0;34m\u001b[0m\u001b[0;34m\u001b[0m\u001b[0m\n\u001b[1;32m      9\u001b[0m \u001b[0mobje\u001b[0m \u001b[0;34m=\u001b[0m \u001b[0mE\u001b[0m\u001b[0;34m(\u001b[0m\u001b[0;34m)\u001b[0m\u001b[0;34m\u001b[0m\u001b[0;34m\u001b[0m\u001b[0m\n\u001b[0;32m---> 10\u001b[0;31m \u001b[0mobje\u001b[0m\u001b[0;34m.\u001b[0m\u001b[0mdo_job\u001b[0m\u001b[0;34m(\u001b[0m\u001b[0;34m'Python'\u001b[0m\u001b[0;34m,\u001b[0m \u001b[0;36m5\u001b[0m\u001b[0;34m)\u001b[0m\u001b[0;34m\u001b[0m\u001b[0;34m\u001b[0m\u001b[0m\n\u001b[0m\u001b[1;32m     11\u001b[0m \u001b[0;34m\u001b[0m\u001b[0m\n\u001b[1;32m     12\u001b[0m \u001b[0mprint\u001b[0m\u001b[0;34m(\u001b[0m\u001b[0;34m)\u001b[0m\u001b[0;34m\u001b[0m\u001b[0;34m\u001b[0m\u001b[0m\n",
      "\u001b[0;32m<ipython-input-4-10463e3962f1>\u001b[0m in \u001b[0;36mdo_job\u001b[0;34m(self, s, n)\u001b[0m\n\u001b[1;32m     29\u001b[0m \u001b[0;32mclass\u001b[0m \u001b[0mE\u001b[0m\u001b[0;34m(\u001b[0m\u001b[0mD\u001b[0m\u001b[0;34m,\u001b[0m \u001b[0mC\u001b[0m\u001b[0;34m)\u001b[0m\u001b[0;34m:\u001b[0m\u001b[0;34m\u001b[0m\u001b[0;34m\u001b[0m\u001b[0m\n\u001b[1;32m     30\u001b[0m     \u001b[0;32mdef\u001b[0m \u001b[0mdo_job\u001b[0m\u001b[0;34m(\u001b[0m\u001b[0mself\u001b[0m\u001b[0;34m,\u001b[0m \u001b[0ms\u001b[0m\u001b[0;34m,\u001b[0m \u001b[0mn\u001b[0m\u001b[0;34m)\u001b[0m\u001b[0;34m:\u001b[0m\u001b[0;34m\u001b[0m\u001b[0;34m\u001b[0m\u001b[0m\n\u001b[0;32m---> 31\u001b[0;31m         \u001b[0msuper\u001b[0m\u001b[0;34m(\u001b[0m\u001b[0;34m)\u001b[0m\u001b[0;34m.\u001b[0m\u001b[0mdo_job\u001b[0m\u001b[0;34m(\u001b[0m\u001b[0ms\u001b[0m\u001b[0;34m,\u001b[0m \u001b[0mn\u001b[0m\u001b[0;34m)\u001b[0m\u001b[0;34m\u001b[0m\u001b[0;34m\u001b[0m\u001b[0m\n\u001b[0m\u001b[1;32m     32\u001b[0m         \u001b[0mprint\u001b[0m\u001b[0;34m(\u001b[0m\u001b[0;34m'I am laughing ...'\u001b[0m\u001b[0;34m)\u001b[0m\u001b[0;34m\u001b[0m\u001b[0;34m\u001b[0m\u001b[0m\n\u001b[1;32m     33\u001b[0m \u001b[0;34m\u001b[0m\u001b[0m\n",
      "\u001b[0;31mTypeError\u001b[0m: do_job() takes 2 positional arguments but 3 were given"
     ]
    }
   ],
   "source": [
    "obja = A()\n",
    "obja.do_job()\n",
    "\n",
    "print()\n",
    "objz = Z()\n",
    "objz.do_job(3)\n",
    "\n",
    "print()\n",
    "obje = E()\n",
    "obje.do_job('Python', 5)\n",
    "\n",
    "print()\n",
    "objf = F()\n",
    "objf.do_job('Python', 6)\n"
   ]
  },
  {
   "cell_type": "markdown",
   "id": "interstate-virtue",
   "metadata": {},
   "source": [
    "2- اررور TpyeError داریم که میگه تابع  do_job() فقط ۲ ورودی میگیرد وبی ما به آن ۳  ورودی دارد.\n",
    "مشکل از اینجاست که با اینکه تابع do_job() در کلاس E بجز self ورودی s و n را میگیرد. ولی در کلاس والد آن یعنی کلاس D این تابع بجز selfیک ورودی میگیرد .\n",
    "وقتی ما تابع super را در کلاس E صدا میزنیم می بینیم که با توجه به تابع mro وارد کلاس Dمی شود ولی تعداد ورودی داده شده به آن بیشتر از حد مجاز است."
   ]
  },
  {
   "cell_type": "code",
   "execution_count": null,
   "id": "broad-highlight",
   "metadata": {},
   "outputs": [],
   "source": []
  }
 ],
 "metadata": {
  "direction": "rtl",
  "kernelspec": {
   "display_name": "Python 3",
   "language": "python",
   "name": "python3"
  },
  "language_info": {
   "codemirror_mode": {
    "name": "ipython",
    "version": 3
   },
   "file_extension": ".py",
   "mimetype": "text/x-python",
   "name": "python",
   "nbconvert_exporter": "python",
   "pygments_lexer": "ipython3",
   "version": "3.8.8"
  }
 },
 "nbformat": 4,
 "nbformat_minor": 5
}
