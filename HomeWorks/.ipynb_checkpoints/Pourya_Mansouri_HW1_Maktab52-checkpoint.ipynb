{
 "cells": [
  {
   "cell_type": "markdown",
   "id": "documented-python",
   "metadata": {},
   "source": [
    "### Tamrin1"
   ]
  },
  {
   "cell_type": "code",
   "execution_count": 2,
   "id": "electrical-madonna",
   "metadata": {},
   "outputs": [
    {
     "name": "stdout",
     "output_type": "stream",
     "text": [
      "n: 5\n",
      "1 2 3 4 5 \n",
      "2 4 6 8 10 \n",
      "3 6 9 12 15 \n",
      "4 8 12 16 20 \n",
      "5 10 15 20 25 \n"
     ]
    }
   ],
   "source": [
    "n = int(input(\"n: \"))\n",
    "for i in range(1,n+1):\n",
    "    for j in range(1,n+1):\n",
    "        print(i*j,end=\" \")\n",
    "    print()\n",
    "    "
   ]
  },
  {
   "cell_type": "markdown",
   "id": "funny-measurement",
   "metadata": {},
   "source": [
    "***"
   ]
  },
  {
   "cell_type": "markdown",
   "id": "related-ivory",
   "metadata": {},
   "source": [
    "### Tamrin2"
   ]
  },
  {
   "cell_type": "code",
   "execution_count": 16,
   "id": "sitting-chrome",
   "metadata": {},
   "outputs": [
    {
     "name": "stdout",
     "output_type": "stream",
     "text": [
      "Hello akbar11, date: 1399/12/10, time: 12:05:2\n",
      "Vowels: 8\n",
      "Digits: 15\n",
      "Sum of digits: 38.0\n",
      "e:3 , l:2 ,  :5 , a:3 , 1:6 , ,:2 , t:2 , ::4 , 9:2 , /:2 , 2:3 , 0:2 , "
     ]
    }
   ],
   "source": [
    "sentence = input()\n",
    "sumOfDigit = 0\n",
    "vowels = 0\n",
    "digits = 0\n",
    "allCharacter = {}\n",
    "for ch in sentence.lower():\n",
    "    allCharacter[ch]=allCharacter.get(ch,0)+1\n",
    "    if ch in \"0123456789\":\n",
    "        digits+=1\n",
    "        sumOfDigit+=float(ch)\n",
    "    elif ch in \"aioue\":\n",
    "        vowels+=1\n",
    "\n",
    "print(\"Vowels:\",vowels)\n",
    "print(\"Digits:\",digits)\n",
    "print(\"Sum of digits:\",sumOfDigit)\n",
    "for key in allCharacter.keys():\n",
    "    if allCharacter[key]>1:\n",
    "        print(str(key),allCharacter[key],sep=':',end=\" , \")"
   ]
  },
  {
   "cell_type": "markdown",
   "id": "latter-cowboy",
   "metadata": {},
   "source": [
    "***"
   ]
  },
  {
   "cell_type": "markdown",
   "id": "pediatric-gross",
   "metadata": {},
   "source": [
    "### Tamrin 3"
   ]
  },
  {
   "cell_type": "code",
   "execution_count": 19,
   "id": "popular-warehouse",
   "metadata": {},
   "outputs": [
    {
     "name": "stdout",
     "output_type": "stream",
     "text": [
      "10 12 15 20 8\n",
      "Maximum: 20.0\n",
      "Minimum 8.0\n",
      "Avarage 13.0\n"
     ]
    }
   ],
   "source": [
    "listOfNumbers = list(map(float,input().split()))\n",
    "\n",
    "maximum = listOfNumbers[0]\n",
    "minimum = listOfNumbers[0]\n",
    "sumOfList=0\n",
    "avarage = 0\n",
    "\n",
    "for i in listOfNumbers:\n",
    "    if i > maximum:\n",
    "        maximum = i\n",
    "    if i < minimum:\n",
    "        minimum = i\n",
    "    sumOfList += i\n",
    "    \n",
    "avarage=sumOfList/len(listOfNumbers)\n",
    "\n",
    "print(\"Maximum:\",maximum)\n",
    "print(\"Minimum\", minimum)\n",
    "print(\"Avarage\",avarage)\n",
    "    "
   ]
  },
  {
   "cell_type": "markdown",
   "id": "young-netscape",
   "metadata": {},
   "source": [
    "***"
   ]
  },
  {
   "cell_type": "markdown",
   "id": "personal-albania",
   "metadata": {},
   "source": [
    "### Tamrin4"
   ]
  },
  {
   "cell_type": "code",
   "execution_count": 20,
   "id": "tired-success",
   "metadata": {},
   "outputs": [
    {
     "name": "stdout",
     "output_type": "stream",
     "text": [
      "0.0\n"
     ]
    }
   ],
   "source": [
    "print(float(0))"
   ]
  },
  {
   "cell_type": "code",
   "execution_count": 21,
   "id": "diverse-spanking",
   "metadata": {},
   "outputs": [
    {
     "name": "stdout",
     "output_type": "stream",
     "text": [
      "-112\n"
     ]
    }
   ],
   "source": [
    "print(int(-112.22))"
   ]
  },
  {
   "cell_type": "code",
   "execution_count": 22,
   "id": "threatened-pocket",
   "metadata": {},
   "outputs": [
    {
     "name": "stdout",
     "output_type": "stream",
     "text": [
      "True\n"
     ]
    }
   ],
   "source": [
    "print(bool(12.22))"
   ]
  },
  {
   "cell_type": "code",
   "execution_count": 23,
   "id": "competent-kentucky",
   "metadata": {},
   "outputs": [
    {
     "name": "stdout",
     "output_type": "stream",
     "text": [
      "False\n"
     ]
    }
   ],
   "source": [
    "print(bool(0))"
   ]
  },
  {
   "cell_type": "code",
   "execution_count": 24,
   "id": "dominican-florence",
   "metadata": {},
   "outputs": [
    {
     "ename": "ValueError",
     "evalue": "invalid literal for int() with base 10: ''",
     "output_type": "error",
     "traceback": [
      "\u001b[1;31m---------------------------------------------------------------------------\u001b[0m",
      "\u001b[1;31mValueError\u001b[0m                                Traceback (most recent call last)",
      "\u001b[1;32m<ipython-input-24-1f3cd6bc377a>\u001b[0m in \u001b[0;36m<module>\u001b[1;34m\u001b[0m\n\u001b[1;32m----> 1\u001b[1;33m \u001b[0mprint\u001b[0m\u001b[1;33m(\u001b[0m\u001b[0mint\u001b[0m\u001b[1;33m(\u001b[0m\u001b[1;34m''\u001b[0m\u001b[1;33m)\u001b[0m\u001b[1;33m)\u001b[0m\u001b[1;33m\u001b[0m\u001b[1;33m\u001b[0m\u001b[0m\n\u001b[0m",
      "\u001b[1;31mValueError\u001b[0m: invalid literal for int() with base 10: ''"
     ]
    }
   ],
   "source": [
    "print(int(''))"
   ]
  },
  {
   "cell_type": "code",
   "execution_count": 25,
   "id": "desirable-static",
   "metadata": {},
   "outputs": [
    {
     "name": "stdout",
     "output_type": "stream",
     "text": [
      "-12.22\n"
     ]
    }
   ],
   "source": [
    "print(str(float('-12.22')))"
   ]
  },
  {
   "cell_type": "code",
   "execution_count": 26,
   "id": "complete-dynamics",
   "metadata": {},
   "outputs": [
    {
     "name": "stdout",
     "output_type": "stream",
     "text": [
      "1.0\n"
     ]
    }
   ],
   "source": [
    "print(float(True))"
   ]
  },
  {
   "cell_type": "code",
   "execution_count": 27,
   "id": "romance-identity",
   "metadata": {},
   "outputs": [
    {
     "ename": "ValueError",
     "evalue": "invalid literal for int() with base 10: '12/5'",
     "output_type": "error",
     "traceback": [
      "\u001b[1;31m---------------------------------------------------------------------------\u001b[0m",
      "\u001b[1;31mValueError\u001b[0m                                Traceback (most recent call last)",
      "\u001b[1;32m<ipython-input-27-6180734ecc65>\u001b[0m in \u001b[0;36m<module>\u001b[1;34m\u001b[0m\n\u001b[1;32m----> 1\u001b[1;33m \u001b[0mprint\u001b[0m\u001b[1;33m(\u001b[0m\u001b[0mint\u001b[0m\u001b[1;33m(\u001b[0m\u001b[1;34m'12/5'\u001b[0m\u001b[1;33m)\u001b[0m\u001b[1;33m)\u001b[0m\u001b[1;33m\u001b[0m\u001b[1;33m\u001b[0m\u001b[0m\n\u001b[0m",
      "\u001b[1;31mValueError\u001b[0m: invalid literal for int() with base 10: '12/5'"
     ]
    }
   ],
   "source": [
    "print(int('12/5'))"
   ]
  },
  {
   "cell_type": "code",
   "execution_count": 28,
   "id": "freelance-prisoner",
   "metadata": {},
   "outputs": [
    {
     "name": "stdout",
     "output_type": "stream",
     "text": [
      "True\n"
     ]
    }
   ],
   "source": [
    "print(bool('0'))"
   ]
  },
  {
   "cell_type": "code",
   "execution_count": 30,
   "id": "worth-saint",
   "metadata": {},
   "outputs": [
    {
     "ename": "ValueError",
     "evalue": "invalid literal for int() with base 10: 'True'",
     "output_type": "error",
     "traceback": [
      "\u001b[1;31m---------------------------------------------------------------------------\u001b[0m",
      "\u001b[1;31mValueError\u001b[0m                                Traceback (most recent call last)",
      "\u001b[1;32m<ipython-input-30-e02636c68fce>\u001b[0m in \u001b[0;36m<module>\u001b[1;34m\u001b[0m\n\u001b[1;32m----> 1\u001b[1;33m \u001b[0mprint\u001b[0m\u001b[1;33m(\u001b[0m\u001b[0mint\u001b[0m\u001b[1;33m(\u001b[0m\u001b[0mstr\u001b[0m\u001b[1;33m(\u001b[0m\u001b[0mbool\u001b[0m\u001b[1;33m(\u001b[0m\u001b[1;36m12.345\u001b[0m\u001b[1;33m)\u001b[0m\u001b[1;33m)\u001b[0m\u001b[1;33m)\u001b[0m\u001b[1;33m)\u001b[0m\u001b[1;33m\u001b[0m\u001b[1;33m\u001b[0m\u001b[0m\n\u001b[0m",
      "\u001b[1;31mValueError\u001b[0m: invalid literal for int() with base 10: 'True'"
     ]
    }
   ],
   "source": [
    "print(int(str(bool(12.345))))"
   ]
  },
  {
   "cell_type": "markdown",
   "id": "veterinary-minority",
   "metadata": {},
   "source": [
    "***"
   ]
  },
  {
   "cell_type": "markdown",
   "id": "responsible-vault",
   "metadata": {},
   "source": [
    "### Tamrin5"
   ]
  },
  {
   "cell_type": "code",
   "execution_count": 32,
   "id": "specified-frame",
   "metadata": {},
   "outputs": [],
   "source": [
    "list1=['morning','afternoon','night']\n",
    "list2=['Saturday','Sunday','Monday','Tuesday','Wednesday','Thursday','Friday']\n",
    "tags=[]"
   ]
  },
  {
   "cell_type": "code",
   "execution_count": 33,
   "id": "ethical-joining",
   "metadata": {},
   "outputs": [
    {
     "name": "stdout",
     "output_type": "stream",
     "text": [
      "['Saturday-morning', 'Saturday-afternoon', 'Saturday-night', 'Sunday-morning', 'Sunday-afternoon', 'Sunday-night', 'Monday-morning', 'Monday-afternoon', 'Monday-night', 'Tuesday-morning', 'Tuesday-afternoon', 'Tuesday-night', 'Wednesday-morning', 'Wednesday-afternoon', 'Wednesday-night', 'Thursday-morning', 'Thursday-afternoon', 'Thursday-night', 'Friday-morning', 'Friday-afternoon', 'Friday-night']\n"
     ]
    }
   ],
   "source": [
    "for day in list2:\n",
    "    for time in list1:\n",
    "        tags.append(day+'-'+time)\n",
    "print(tags)"
   ]
  },
  {
   "cell_type": "markdown",
   "id": "frequent-characteristic",
   "metadata": {},
   "source": [
    "***"
   ]
  },
  {
   "cell_type": "markdown",
   "id": "animal-smith",
   "metadata": {},
   "source": [
    "### Tamrin6"
   ]
  },
  {
   "cell_type": "code",
   "execution_count": 41,
   "id": "korean-connectivity",
   "metadata": {},
   "outputs": [
    {
     "name": "stdout",
     "output_type": "stream",
     "text": [
      "41 * 25\n",
      "Result: 1025.0\n"
     ]
    }
   ],
   "source": [
    "num1,op,num2 = input().split()\n",
    "if op == '+':\n",
    "    result= float(num1)+float(num2)\n",
    "elif op== '-':\n",
    "    result= float(num1)-float(num2)\n",
    "elif op== '*':\n",
    "    result= float(num1)*float(num2)\n",
    "elif op== '/':\n",
    "    if float(num2)==0:\n",
    "        result = \"Error(num2 = 0 in divition)\"\n",
    "    else:\n",
    "        result= float(num1)/float(num2)\n",
    "        \n",
    "print(\"Result:\",result)"
   ]
  },
  {
   "cell_type": "markdown",
   "id": "convertible-practice",
   "metadata": {},
   "source": [
    "---"
   ]
  },
  {
   "cell_type": "markdown",
   "id": "minimal-outreach",
   "metadata": {},
   "source": [
    "### Tamrin7"
   ]
  },
  {
   "cell_type": "code",
   "execution_count": 43,
   "id": "undefined-anime",
   "metadata": {},
   "outputs": [
    {
     "name": "stdout",
     "output_type": "stream",
     "text": [
      "aada52d\n",
      "a:3\n",
      "d:2\n",
      "5:1\n",
      "2:1\n"
     ]
    }
   ],
   "source": [
    "listCharacters = list(input())\n",
    "dictOfCharacter = dict()\n",
    "for ch in listCharacters:\n",
    "    dictOfCharacter[ch]=dictOfCharacter.get(ch,0)+1\n",
    "    \n",
    "for key in dictOfCharacter.keys():\n",
    "    print(key,dictOfCharacter[key],sep=':')"
   ]
  },
  {
   "cell_type": "markdown",
   "id": "deluxe-mauritius",
   "metadata": {},
   "source": [
    "***"
   ]
  },
  {
   "cell_type": "markdown",
   "id": "dress-desire",
   "metadata": {},
   "source": [
    "### Tamrin8"
   ]
  },
  {
   "cell_type": "code",
   "execution_count": 44,
   "id": "brutal-brazilian",
   "metadata": {},
   "outputs": [
    {
     "name": "stdout",
     "output_type": "stream",
     "text": [
      "5\n",
      "*\n",
      "**\n",
      "***\n",
      "****\n",
      "*****\n",
      "****\n",
      "***\n",
      "**\n",
      "*\n"
     ]
    }
   ],
   "source": [
    "n = int(input())\n",
    "i = 1\n",
    "while (n!=0):\n",
    "    if i<n:\n",
    "        print(i*'*')\n",
    "        i+=1\n",
    "    else:\n",
    "        print(n*'*')\n",
    "        n-=1"
   ]
  },
  {
   "cell_type": "markdown",
   "id": "formal-responsibility",
   "metadata": {},
   "source": [
    "***"
   ]
  },
  {
   "cell_type": "markdown",
   "id": "technical-sussex",
   "metadata": {},
   "source": [
    "### Tamrin 9"
   ]
  },
  {
   "cell_type": "code",
   "execution_count": 52,
   "id": "tropical-sarah",
   "metadata": {},
   "outputs": [
    {
     "name": "stdout",
     "output_type": "stream",
     "text": [
      "8\n",
      "1 \n",
      "1 1 \n",
      "1 2 1 \n",
      "1 3 3 1 \n",
      "1 4 6 4 1 \n",
      "1 5 10 10 5 1 \n",
      "1 6 15 20 15 6 1 \n",
      "1 7 21 35 35 21 7 1 \n"
     ]
    }
   ],
   "source": [
    "n= int(input())\n",
    "seen=[[0 for i in range(n)] for j in range(n)] \n",
    "value=[[0 for i in range(n)] for j in range(n)] \n",
    "def paskal(row,col):\n",
    "    if seen[row][col]==1:\n",
    "        return value[row][col]\n",
    "    \n",
    "    seen[row][col]=1\n",
    "    if col==0  or row==col:\n",
    "        value[row][col]=1\n",
    "    else:\n",
    "        value[row][col]=paskal(row-1,col)+paskal(row-1,col-1)\n",
    "    return value[row][col]\n",
    "        \n",
    "for i in range(n):\n",
    "    for j in range(i+1):\n",
    "        print(paskal(i,j),end=' ')  \n",
    "    print()     "
   ]
  }
 ],
 "metadata": {
  "kernelspec": {
   "display_name": "Python 3",
   "language": "python",
   "name": "python3"
  },
  "language_info": {
   "codemirror_mode": {
    "name": "ipython",
    "version": 3
   },
   "file_extension": ".py",
   "mimetype": "text/x-python",
   "name": "python",
   "nbconvert_exporter": "python",
   "pygments_lexer": "ipython3",
   "version": "3.8.8"
  }
 },
 "nbformat": 4,
 "nbformat_minor": 5
}
