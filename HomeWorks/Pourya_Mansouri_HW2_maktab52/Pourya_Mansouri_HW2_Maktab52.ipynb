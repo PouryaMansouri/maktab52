{
 "cells": [
  {
   "cell_type": "markdown",
   "id": "ranging-reform",
   "metadata": {},
   "source": [
    "#### Tamrin 1"
   ]
  },
  {
   "cell_type": "markdown",
   "id": "muslim-password",
   "metadata": {},
   "source": [
    "#### 1. Function for reverse the string"
   ]
  },
  {
   "cell_type": "code",
   "execution_count": 16,
   "id": "violent-revolution",
   "metadata": {},
   "outputs": [],
   "source": [
    "def reverse_string(input_string:str) -> str:\n",
    "    return input_string[::-1]"
   ]
  },
  {
   "cell_type": "markdown",
   "id": "sonic-reunion",
   "metadata": {},
   "source": [
    "#### 2. function for check the palindrome"
   ]
  },
  {
   "cell_type": "code",
   "execution_count": 17,
   "id": "featured-scott",
   "metadata": {},
   "outputs": [],
   "source": [
    "def is_palindrome(input_string:str) -> bool:\n",
    "    if input_string == reverse_string(input_string):\n",
    "        return True\n",
    "    return False"
   ]
  },
  {
   "cell_type": "markdown",
   "id": "seven-potato",
   "metadata": {},
   "source": [
    "#### 3. main "
   ]
  },
  {
   "cell_type": "code",
   "execution_count": 18,
   "id": "willing-burlington",
   "metadata": {},
   "outputs": [
    {
     "name": "stdout",
     "output_type": "stream",
     "text": [
      "kahak\n",
      "true\n"
     ]
    }
   ],
   "source": [
    "input_string = input()\n",
    "if is_palindrome(input_string):\n",
    "    print(\"true\")\n",
    "else:\n",
    "    print('false')"
   ]
  },
  {
   "cell_type": "markdown",
   "id": "stupid-kernel",
   "metadata": {},
   "source": [
    "***"
   ]
  },
  {
   "cell_type": "markdown",
   "id": "funded-latino",
   "metadata": {},
   "source": [
    "###  tamrin 2"
   ]
  },
  {
   "cell_type": "code",
   "execution_count": null,
   "id": "active-services",
   "metadata": {},
   "outputs": [],
   "source": []
  },
  {
   "cell_type": "code",
   "execution_count": null,
   "id": "sweet-waterproof",
   "metadata": {},
   "outputs": [],
   "source": []
  },
  {
   "cell_type": "code",
   "execution_count": null,
   "id": "appropriate-insert",
   "metadata": {},
   "outputs": [],
   "source": [
    "from math import sqrt\n",
    "\n",
    "\n",
    "def isPrime(n):\n",
    "    if n == 1:\n",
    "        return False\n",
    "    for i in range(2, int(sqrt(n)+1)):\n",
    "        if n % i == 0:\n",
    "            return False\n",
    "    return True\n",
    "\n",
    "\n",
    "def getInput():\n",
    "    n = int(input())\n",
    "    weights = []\n",
    "    for i in range(n):\n",
    "        weight = int(input())\n",
    "        weights.append(weight)\n",
    "    return weights\n",
    "\n",
    "\n",
    "def countSmallerPrime(n):\n",
    "    count = 0\n",
    "    for i in range(2, n):\n",
    "        if isPrime(i):\n",
    "            count += 1\n",
    "    return count\n",
    "\n",
    "\n",
    "def countPrimeDivider(n):\n",
    "    count = 0\n",
    "    for i in range(1,int(n/2)+1):\n",
    "        if isPrime(i) and n % i == 0:\n",
    "            count += 1\n",
    "    return count\n",
    "\n",
    "\n",
    "def caculatePrice(weights:list):\n",
    "    price = 0\n",
    "    for weight in weights:\n",
    "        if isPrime(weight):\n",
    "            price += countSmallerPrime(weight)\n",
    "        else:\n",
    "            price += countPrimeDivider(weight)\n",
    "    return int(price)\n",
    "\n",
    "\n",
    "def caculateDiscount(price:int):\n",
    "    if isPrime(price):\n",
    "        return countSmallerPrime(price)\n",
    "    return countPrimeDivider(price)\n",
    "\n",
    "\n",
    "######## Main #########\n",
    "weights = getInput()\n",
    "price = caculatePrice(weights)\n",
    "discount = caculateDiscount(price)\n",
    "\n",
    "print(price-discount)\n"
   ]
  }
 ],
 "metadata": {
  "kernelspec": {
   "display_name": "Python 3",
   "language": "python",
   "name": "python3"
  },
  "language_info": {
   "codemirror_mode": {
    "name": "ipython",
    "version": 3
   },
   "file_extension": ".py",
   "mimetype": "text/x-python",
   "name": "python",
   "nbconvert_exporter": "python",
   "pygments_lexer": "ipython3",
   "version": "3.8.8"
  }
 },
 "nbformat": 4,
 "nbformat_minor": 5
}
