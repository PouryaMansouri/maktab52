{
 "cells": [
  {
   "cell_type": "markdown",
   "id": "conservative-modeling",
   "metadata": {},
   "source": [
    "#### Tamrin 1"
   ]
  },
  {
   "cell_type": "markdown",
   "id": "adjusted-being",
   "metadata": {},
   "source": [
    "#### 1. Function for reverse the string"
   ]
  },
  {
   "cell_type": "code",
   "execution_count": 16,
   "id": "nominated-muslim",
   "metadata": {},
   "outputs": [],
   "source": [
    "def reverse_string(input_string:str) -> str:\n",
    "    return input_string[::-1]"
   ]
  },
  {
   "cell_type": "markdown",
   "id": "restricted-bobby",
   "metadata": {},
   "source": [
    "#### 2. function for check the palindrome"
   ]
  },
  {
   "cell_type": "code",
   "execution_count": 17,
   "id": "strategic-invitation",
   "metadata": {},
   "outputs": [],
   "source": [
    "def is_palindrome(input_string:str) -> bool:\n",
    "    if input_string == reverse_string(input_string):\n",
    "        return True\n",
    "    return False"
   ]
  },
  {
   "cell_type": "markdown",
   "id": "strong-boston",
   "metadata": {},
   "source": [
    "#### 3. main "
   ]
  },
  {
   "cell_type": "code",
   "execution_count": 18,
   "id": "asian-exposure",
   "metadata": {},
   "outputs": [
    {
     "name": "stdout",
     "output_type": "stream",
     "text": [
      "kahak\n",
      "true\n"
     ]
    }
   ],
   "source": [
    "input_string = input()\n",
    "if is_palindrome(input_string):\n",
    "    print(\"true\")\n",
    "else:\n",
    "    print('false')"
   ]
  },
  {
   "cell_type": "markdown",
   "id": "cleared-illinois",
   "metadata": {},
   "source": [
    "***"
   ]
  },
  {
   "cell_type": "markdown",
   "id": "informed-developer",
   "metadata": {},
   "source": [
    "###  tamrin 2"
   ]
  },
  {
   "cell_type": "markdown",
   "id": "scenic-portfolio",
   "metadata": {},
   "source": [
    "####  1. function to check number is prime or not"
   ]
  },
  {
   "cell_type": "code",
   "execution_count": 19,
   "id": "usual-brazilian",
   "metadata": {},
   "outputs": [],
   "source": [
    "from math import sqrt\n",
    "\n",
    "\n",
    "def is_prime(num):\n",
    "    if num <= 1:\n",
    "        return False\n",
    "    for i in range(2, int(sqrt(num) + 1)):\n",
    "        if num % i == 0:\n",
    "            return False\n",
    "    return True"
   ]
  },
  {
   "cell_type": "markdown",
   "id": "owned-profit",
   "metadata": {},
   "source": [
    "#### 2. function to get input and add them to list"
   ]
  },
  {
   "cell_type": "code",
   "execution_count": 20,
   "id": "large-vertex",
   "metadata": {},
   "outputs": [],
   "source": [
    "def get_input():\n",
    "    n = int(input())\n",
    "    weights = []\n",
    "    for i in range(n):\n",
    "        weight = int(input())\n",
    "        weights.append(weight)\n",
    "    return weights"
   ]
  },
  {
   "cell_type": "markdown",
   "id": "atomic-enterprise",
   "metadata": {},
   "source": [
    "#### 3. function to count how many numbers are prime and smaller than input number"
   ]
  },
  {
   "cell_type": "code",
   "execution_count": 21,
   "id": "social-occupation",
   "metadata": {},
   "outputs": [],
   "source": [
    "def count_smaller_primes(n):\n",
    "    count = 0\n",
    "    for i in range(2, n):\n",
    "        if is_prime(i):\n",
    "            count += 1\n",
    "    return count"
   ]
  },
  {
   "cell_type": "markdown",
   "id": "meaning-company",
   "metadata": {},
   "source": [
    "#### 4. function to count how many of dividers of number are prime"
   ]
  },
  {
   "cell_type": "code",
   "execution_count": 22,
   "id": "billion-spouse",
   "metadata": {},
   "outputs": [],
   "source": [
    "def count_prime_divider(n):\n",
    "    count = 0\n",
    "    for i in range(1, int(n / 2) + 1):\n",
    "        if is_prime(i) and n % i == 0:\n",
    "            count += 1\n",
    "    return count"
   ]
  },
  {
   "cell_type": "markdown",
   "id": "cutting-doctor",
   "metadata": {},
   "source": [
    "#### 4. function to calculate the price"
   ]
  },
  {
   "cell_type": "code",
   "execution_count": 23,
   "id": "perfect-ireland",
   "metadata": {},
   "outputs": [],
   "source": [
    "def calculate_price(weights: list):\n",
    "    price = 0\n",
    "    for weight in weights:\n",
    "        if is_prime(weight):\n",
    "            price += count_smaller_primes(weight)\n",
    "        else:\n",
    "            price += count_prime_divider(weight)\n",
    "    return int(price)"
   ]
  },
  {
   "cell_type": "markdown",
   "id": "cardiovascular-evanescence",
   "metadata": {},
   "source": [
    "#### 5. function to calculate the discount"
   ]
  },
  {
   "cell_type": "code",
   "execution_count": 24,
   "id": "interested-journalism",
   "metadata": {},
   "outputs": [],
   "source": [
    "def calculate_discount(price: int):\n",
    "    if is_prime(price):\n",
    "        return count_smaller_primes(price)\n",
    "    return count_prime_divider(price)"
   ]
  },
  {
   "cell_type": "markdown",
   "id": "actual-metro",
   "metadata": {},
   "source": [
    "### 6. main"
   ]
  },
  {
   "cell_type": "code",
   "execution_count": 25,
   "id": "pressed-graph",
   "metadata": {},
   "outputs": [
    {
     "name": "stdout",
     "output_type": "stream",
     "text": [
      "6\n",
      "1\n",
      "3\n",
      "4\n",
      "5\n",
      "9\n",
      "3\n",
      "4\n"
     ]
    }
   ],
   "source": [
    "weights_list = get_input()\n",
    "price_without_discount = calculate_price(weights_list)\n",
    "discount = calculate_discount(price_without_discount)\n",
    "\n",
    "print(price_without_discount - discount)"
   ]
  },
  {
   "cell_type": "markdown",
   "id": "finished-fellowship",
   "metadata": {},
   "source": [
    "***"
   ]
  },
  {
   "cell_type": "markdown",
   "id": "incomplete-anime",
   "metadata": {},
   "source": [
    "###  tamrin 3"
   ]
  },
  {
   "cell_type": "code",
   "execution_count": null,
   "id": "funny-expression",
   "metadata": {},
   "outputs": [],
   "source": []
  },
  {
   "cell_type": "code",
   "execution_count": null,
   "id": "floating-reservoir",
   "metadata": {},
   "outputs": [],
   "source": []
  }
 ],
 "metadata": {
  "kernelspec": {
   "display_name": "Python 3",
   "language": "python",
   "name": "python3"
  },
  "language_info": {
   "codemirror_mode": {
    "name": "ipython",
    "version": 3
   },
   "file_extension": ".py",
   "mimetype": "text/x-python",
   "name": "python",
   "nbconvert_exporter": "python",
   "pygments_lexer": "ipython3",
   "version": "3.8.8"
  }
 },
 "nbformat": 4,
 "nbformat_minor": 5
}
