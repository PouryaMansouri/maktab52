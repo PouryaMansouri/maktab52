{
 "cells": [
  {
   "cell_type": "markdown",
   "id": "3cae5532",
   "metadata": {},
   "source": [
    "###  Tamrin 4"
   ]
  },
  {
   "cell_type": "markdown",
   "id": "1708e60a",
   "metadata": {},
   "source": [
    "- Relative imports use a module's __name__ attribute to determine that module's position in the package hierarchy.\n",
    "    In other words, the algorithm to resolve the module is based on the values of __name__ and __package__ variables.\n",
    "    Sometimes , as in our example case, those variables does not contain any package information - the value of __package__ is None and the value of __name__ is __main__"
   ]
  },
  {
   "cell_type": "markdown",
   "id": "430695da",
   "metadata": {},
   "source": [
    "reference : https://napuzba.com/a/import-error-relative-no-parent/p2"
   ]
  },
  {
   "cell_type": "markdown",
   "id": "95d3602e",
   "metadata": {},
   "source": [
    "###  Tamrin3"
   ]
  },
  {
   "cell_type": "markdown",
   "id": "26a0b02b",
   "metadata": {},
   "source": [
    "#### - Exception vs (Syntax Erorr)"
   ]
  },
  {
   "cell_type": "markdown",
   "id": "cc68f242",
   "metadata": {},
   "source": [
    "####  Syntax Erorr\n",
    "- When you forget a colon at the end of a line, accidentally add one space too many when indenting under an if statement, or forget a parenthesis, you will encounter a syntax error. This means that Python couldn’t figure out how to read your program."
   ]
  },
  {
   "cell_type": "markdown",
   "id": "005cf229",
   "metadata": {},
   "source": [
    "#### Exceptions\n",
    "- Even if a statement or expression is syntactically correct, it may cause an error when an attempt is made to execute it. Errors detected during execution are called exceptions"
   ]
  },
  {
   "cell_type": "markdown",
   "id": "3fc1bc69",
   "metadata": {},
   "source": [
    "#### Syntax error is neither an Error nor an Exception because both of them happen during runtime, and syntax error causes a compilation error which would prevent the program from compiling and therefore from running."
   ]
  }
 ],
 "metadata": {
  "kernelspec": {
   "display_name": "Python 3",
   "language": "python",
   "name": "python3"
  },
  "language_info": {
   "codemirror_mode": {
    "name": "ipython",
    "version": 3
   },
   "file_extension": ".py",
   "mimetype": "text/x-python",
   "name": "python",
   "nbconvert_exporter": "python",
   "pygments_lexer": "ipython3",
   "version": "3.8.8"
  }
 },
 "nbformat": 4,
 "nbformat_minor": 5
}
