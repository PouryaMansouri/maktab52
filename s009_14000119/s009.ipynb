{
 "cells": [
  {
   "cell_type": "code",
   "execution_count": 2,
   "id": "funded-bidder",
   "metadata": {},
   "outputs": [
    {
     "name": "stdout",
     "output_type": "stream",
     "text": [
      "reza\n"
     ]
    }
   ],
   "source": [
    "class Myclass:\n",
    "    \n",
    "    \n",
    "    def __str__(self):\n",
    "        return \"reza\"\n",
    "    \n",
    "    def __repr__(self):\n",
    "        return \"ali\"\n",
    "    \n",
    "c = Myclass()\n",
    "print(c)"
   ]
  },
  {
   "cell_type": "code",
   "execution_count": 1,
   "id": "higher-malpractice",
   "metadata": {},
   "outputs": [],
   "source": [
    "from persiantools import jdatetime\n"
   ]
  },
  {
   "cell_type": "code",
   "execution_count": 5,
   "id": "female-syria",
   "metadata": {},
   "outputs": [
    {
     "data": {
      "text/plain": [
       "JalaliDate(1991, 12, 1, Shanbeh)"
      ]
     },
     "execution_count": 5,
     "metadata": {},
     "output_type": "execute_result"
    }
   ],
   "source": [
    "jdatetime.JalaliDate(*(1991,12,1))"
   ]
  },
  {
   "cell_type": "code",
   "execution_count": 6,
   "id": "practical-equilibrium",
   "metadata": {},
   "outputs": [],
   "source": [
    "date=1369,12,29,11"
   ]
  },
  {
   "cell_type": "code",
   "execution_count": 14,
   "id": "worse-klein",
   "metadata": {},
   "outputs": [],
   "source": [
    "date = jdatetime.JalaliDateTime(*date)"
   ]
  },
  {
   "cell_type": "code",
   "execution_count": 10,
   "id": "secure-vacation",
   "metadata": {},
   "outputs": [],
   "source": [
    "now = jdatetime.date.today()\n"
   ]
  },
  {
   "cell_type": "code",
   "execution_count": 11,
   "id": "adjacent-heaven",
   "metadata": {},
   "outputs": [
    {
     "data": {
      "text/plain": [
       "datetime.date(2021, 4, 8)"
      ]
     },
     "execution_count": 11,
     "metadata": {},
     "output_type": "execute_result"
    }
   ],
   "source": [
    "now"
   ]
  },
  {
   "cell_type": "code",
   "execution_count": 13,
   "id": "jewish-nickel",
   "metadata": {},
   "outputs": [
    {
     "data": {
      "text/plain": [
       "JalaliDateTime(1400, 1, 19, 15, 34, 26, 12166)"
      ]
     },
     "execution_count": 13,
     "metadata": {},
     "output_type": "execute_result"
    }
   ],
   "source": [
    "jdatetime.JalaliDateTime.today()"
   ]
  },
  {
   "cell_type": "code",
   "execution_count": 15,
   "id": "sitting-conspiracy",
   "metadata": {},
   "outputs": [
    {
     "data": {
      "text/plain": [
       "JalaliDateTime(1369, 12, 29, 11, 0)"
      ]
     },
     "execution_count": 15,
     "metadata": {},
     "output_type": "execute_result"
    }
   ],
   "source": [
    "date"
   ]
  },
  {
   "cell_type": "code",
   "execution_count": 16,
   "id": "subtle-relationship",
   "metadata": {},
   "outputs": [
    {
     "ename": "TypeError",
     "evalue": "unsupported operand type(s) for -: 'datetime.date' and 'JalaliDateTime'",
     "output_type": "error",
     "traceback": [
      "\u001b[0;31m---------------------------------------------------------------------------\u001b[0m",
      "\u001b[0;31mTypeError\u001b[0m                                 Traceback (most recent call last)",
      "\u001b[0;32m<ipython-input-16-ad5f03f9fbad>\u001b[0m in \u001b[0;36m<module>\u001b[0;34m\u001b[0m\n\u001b[0;32m----> 1\u001b[0;31m \u001b[0mnow\u001b[0m \u001b[0;34m-\u001b[0m \u001b[0mdate\u001b[0m\u001b[0;34m\u001b[0m\u001b[0;34m\u001b[0m\u001b[0m\n\u001b[0m",
      "\u001b[0;31mTypeError\u001b[0m: unsupported operand type(s) for -: 'datetime.date' and 'JalaliDateTime'"
     ]
    }
   ],
   "source": [
    "now - date"
   ]
  },
  {
   "cell_type": "code",
   "execution_count": 19,
   "id": "stopped-issue",
   "metadata": {},
   "outputs": [
    {
     "ename": "TypeError",
     "evalue": "unsupported operand type(s) for -: 'datetime.date' and 'JalaliDateTime'",
     "output_type": "error",
     "traceback": [
      "\u001b[0;31m---------------------------------------------------------------------------\u001b[0m",
      "\u001b[0;31mTypeError\u001b[0m                                 Traceback (most recent call last)",
      "\u001b[0;32m<ipython-input-19-6d43c09e9054>\u001b[0m in \u001b[0;36m<module>\u001b[0;34m\u001b[0m\n\u001b[0;32m----> 1\u001b[0;31m \u001b[0mjdatetime\u001b[0m\u001b[0;34m.\u001b[0m\u001b[0mtimedelta\u001b[0m\u001b[0;34m(\u001b[0m\u001b[0mnow\u001b[0m \u001b[0;34m-\u001b[0m \u001b[0mdate\u001b[0m\u001b[0;34m)\u001b[0m\u001b[0;34m\u001b[0m\u001b[0;34m\u001b[0m\u001b[0m\n\u001b[0m",
      "\u001b[0;31mTypeError\u001b[0m: unsupported operand type(s) for -: 'datetime.date' and 'JalaliDateTime'"
     ]
    }
   ],
   "source": [
    "jdatetime.timedelta((now - date)"
   ]
  },
  {
   "cell_type": "code",
   "execution_count": 20,
   "id": "communist-thickness",
   "metadata": {},
   "outputs": [],
   "source": [
    "import datetime"
   ]
  },
  {
   "cell_type": "code",
   "execution_count": 21,
   "id": "endangered-communist",
   "metadata": {},
   "outputs": [
    {
     "data": {
      "text/plain": [
       "datetime.timedelta(days=30)"
      ]
     },
     "execution_count": 21,
     "metadata": {},
     "output_type": "execute_result"
    }
   ],
   "source": [
    "datetime.timedelta(30\n",
    "                  )"
   ]
  },
  {
   "cell_type": "code",
   "execution_count": 22,
   "id": "limiting-philadelphia",
   "metadata": {},
   "outputs": [],
   "source": [
    "n = datetime.datetime.now()"
   ]
  },
  {
   "cell_type": "code",
   "execution_count": 23,
   "id": "first-singing",
   "metadata": {},
   "outputs": [],
   "source": [
    "d = datetime.datetime(1991,3,21)"
   ]
  },
  {
   "cell_type": "code",
   "execution_count": 24,
   "id": "guided-greeting",
   "metadata": {},
   "outputs": [
    {
     "data": {
      "text/plain": [
       "datetime.datetime(1991, 3, 21, 0, 0)"
      ]
     },
     "execution_count": 24,
     "metadata": {},
     "output_type": "execute_result"
    }
   ],
   "source": [
    "d"
   ]
  },
  {
   "cell_type": "code",
   "execution_count": 26,
   "id": "entire-vertical",
   "metadata": {},
   "outputs": [],
   "source": [
    "delta = n -d"
   ]
  },
  {
   "cell_type": "code",
   "execution_count": 36,
   "id": "complimentary-jamaica",
   "metadata": {},
   "outputs": [
    {
     "data": {
      "text/plain": [
       "263439.0"
      ]
     },
     "execution_count": 36,
     "metadata": {},
     "output_type": "execute_result"
    }
   ],
   "source": [
    "delta.total_seconds() // 3600"
   ]
  },
  {
   "cell_type": "code",
   "execution_count": 35,
   "id": "comic-olive",
   "metadata": {},
   "outputs": [
    {
     "data": {
      "text/plain": [
       "15"
      ]
     },
     "execution_count": 35,
     "metadata": {},
     "output_type": "execute_result"
    }
   ],
   "source": [
    "delta.seconds // 3600"
   ]
  },
  {
   "cell_type": "code",
   "execution_count": 34,
   "id": "limited-pleasure",
   "metadata": {},
   "outputs": [
    {
     "data": {
      "text/plain": [
       "3600"
      ]
     },
     "execution_count": 34,
     "metadata": {},
     "output_type": "execute_result"
    }
   ],
   "source": [
    "60*60"
   ]
  },
  {
   "cell_type": "code",
   "execution_count": 37,
   "id": "chicken-spell",
   "metadata": {},
   "outputs": [
    {
     "data": {
      "text/plain": [
       "189676080.0"
      ]
     },
     "execution_count": 37,
     "metadata": {},
     "output_type": "execute_result"
    }
   ],
   "source": [
    "263439.0 * 24 * 30"
   ]
  },
  {
   "cell_type": "code",
   "execution_count": 41,
   "id": "happy-industry",
   "metadata": {},
   "outputs": [
    {
     "data": {
      "text/plain": [
       "263439.0"
      ]
     },
     "execution_count": 41,
     "metadata": {},
     "output_type": "execute_result"
    }
   ],
   "source": [
    "delta.total_seconds() // 3600"
   ]
  },
  {
   "cell_type": "code",
   "execution_count": 42,
   "id": "controlled-environment",
   "metadata": {},
   "outputs": [
    {
     "data": {
      "text/plain": [
       "10976"
      ]
     },
     "execution_count": 42,
     "metadata": {},
     "output_type": "execute_result"
    }
   ],
   "source": [
    "263439 // 24"
   ]
  },
  {
   "cell_type": "code",
   "execution_count": 43,
   "id": "civil-french",
   "metadata": {},
   "outputs": [
    {
     "data": {
      "text/plain": [
       "10976"
      ]
     },
     "execution_count": 43,
     "metadata": {},
     "output_type": "execute_result"
    }
   ],
   "source": [
    "delta.days"
   ]
  },
  {
   "cell_type": "code",
   "execution_count": 44,
   "id": "romance-matthew",
   "metadata": {},
   "outputs": [
    {
     "data": {
      "text/plain": [
       "2021"
      ]
     },
     "execution_count": 44,
     "metadata": {},
     "output_type": "execute_result"
    }
   ],
   "source": [
    "datetime.datetime.now().year"
   ]
  },
  {
   "cell_type": "code",
   "execution_count": null,
   "id": "advised-reform",
   "metadata": {},
   "outputs": [],
   "source": []
  }
 ],
 "metadata": {
  "kernelspec": {
   "display_name": "Python 3",
   "language": "python",
   "name": "python3"
  },
  "language_info": {
   "codemirror_mode": {
    "name": "ipython",
    "version": 3
   },
   "file_extension": ".py",
   "mimetype": "text/x-python",
   "name": "python",
   "nbconvert_exporter": "python",
   "pygments_lexer": "ipython3",
   "version": "3.8.8"
  }
 },
 "nbformat": 4,
 "nbformat_minor": 5
}
